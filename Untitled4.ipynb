{
 "cells": [
  {
   "cell_type": "code",
   "execution_count": 3,
   "id": "dominant-concord",
   "metadata": {},
   "outputs": [],
   "source": [
    "import numpy as np \n",
    "import pandas as pd\n",
    "import matplotlib.pyplot as plt"
   ]
  },
  {
   "cell_type": "code",
   "execution_count": 38,
   "id": "blind-textbook",
   "metadata": {},
   "outputs": [],
   "source": [
    "iot_data_set = pd.read_csv('number-of-connected-iot.csv')"
   ]
  },
  {
   "cell_type": "code",
   "execution_count": 24,
   "id": "handmade-energy",
   "metadata": {},
   "outputs": [
    {
     "data": {
      "text/html": [
       "<div>\n",
       "<style scoped>\n",
       "    .dataframe tbody tr th:only-of-type {\n",
       "        vertical-align: middle;\n",
       "    }\n",
       "\n",
       "    .dataframe tbody tr th {\n",
       "        vertical-align: top;\n",
       "    }\n",
       "\n",
       "    .dataframe thead th {\n",
       "        text-align: right;\n",
       "    }\n",
       "</style>\n",
       "<table border=\"1\" class=\"dataframe\">\n",
       "  <thead>\n",
       "    <tr style=\"text-align: right;\">\n",
       "      <th></th>\n",
       "      <th>Category</th>\n",
       "      <th>NumberofconnectedToTdevicesworldwide</th>\n",
       "    </tr>\n",
       "  </thead>\n",
       "  <tbody>\n",
       "    <tr>\n",
       "      <th>0</th>\n",
       "      <td>2015</td>\n",
       "      <td>15.41</td>\n",
       "    </tr>\n",
       "    <tr>\n",
       "      <th>1</th>\n",
       "      <td>2016</td>\n",
       "      <td>17.68</td>\n",
       "    </tr>\n",
       "    <tr>\n",
       "      <th>2</th>\n",
       "      <td>2017</td>\n",
       "      <td>20.35</td>\n",
       "    </tr>\n",
       "    <tr>\n",
       "      <th>3</th>\n",
       "      <td>2018</td>\n",
       "      <td>23.14</td>\n",
       "    </tr>\n",
       "    <tr>\n",
       "      <th>4</th>\n",
       "      <td>2019</td>\n",
       "      <td>26.66</td>\n",
       "    </tr>\n",
       "    <tr>\n",
       "      <th>5</th>\n",
       "      <td>2020</td>\n",
       "      <td>30.73</td>\n",
       "    </tr>\n",
       "    <tr>\n",
       "      <th>6</th>\n",
       "      <td>2021</td>\n",
       "      <td>35.82</td>\n",
       "    </tr>\n",
       "    <tr>\n",
       "      <th>7</th>\n",
       "      <td>2022</td>\n",
       "      <td>42.62</td>\n",
       "    </tr>\n",
       "    <tr>\n",
       "      <th>8</th>\n",
       "      <td>2023</td>\n",
       "      <td>51.11</td>\n",
       "    </tr>\n",
       "    <tr>\n",
       "      <th>9</th>\n",
       "      <td>2024</td>\n",
       "      <td>62.12</td>\n",
       "    </tr>\n",
       "    <tr>\n",
       "      <th>10</th>\n",
       "      <td>2025</td>\n",
       "      <td>75.44</td>\n",
       "    </tr>\n",
       "  </tbody>\n",
       "</table>\n",
       "</div>"
      ],
      "text/plain": [
       "    Category  NumberofconnectedToTdevicesworldwide\n",
       "0       2015                                 15.41\n",
       "1       2016                                 17.68\n",
       "2       2017                                 20.35\n",
       "3       2018                                 23.14\n",
       "4       2019                                 26.66\n",
       "5       2020                                 30.73\n",
       "6       2021                                 35.82\n",
       "7       2022                                 42.62\n",
       "8       2023                                 51.11\n",
       "9       2024                                 62.12\n",
       "10      2025                                 75.44"
      ]
     },
     "execution_count": 24,
     "metadata": {},
     "output_type": "execute_result"
    }
   ],
   "source": [
    "iot_data_set"
   ]
  },
  {
   "cell_type": "code",
   "execution_count": 47,
   "id": "clinical-abortion",
   "metadata": {},
   "outputs": [],
   "source": [
    "data_iot = pd.DataFrame(iot_data_set)"
   ]
  },
  {
   "cell_type": "code",
   "execution_count": 48,
   "id": "acute-extent",
   "metadata": {},
   "outputs": [
    {
     "data": {
      "text/html": [
       "<div>\n",
       "<style scoped>\n",
       "    .dataframe tbody tr th:only-of-type {\n",
       "        vertical-align: middle;\n",
       "    }\n",
       "\n",
       "    .dataframe tbody tr th {\n",
       "        vertical-align: top;\n",
       "    }\n",
       "\n",
       "    .dataframe thead th {\n",
       "        text-align: right;\n",
       "    }\n",
       "</style>\n",
       "<table border=\"1\" class=\"dataframe\">\n",
       "  <thead>\n",
       "    <tr style=\"text-align: right;\">\n",
       "      <th></th>\n",
       "      <th>Category</th>\n",
       "      <th>NumberofconnectedToTdevicesworldwide</th>\n",
       "    </tr>\n",
       "  </thead>\n",
       "  <tbody>\n",
       "    <tr>\n",
       "      <th>0</th>\n",
       "      <td>2015</td>\n",
       "      <td>15.41</td>\n",
       "    </tr>\n",
       "    <tr>\n",
       "      <th>1</th>\n",
       "      <td>2016</td>\n",
       "      <td>17.68</td>\n",
       "    </tr>\n",
       "    <tr>\n",
       "      <th>2</th>\n",
       "      <td>2017</td>\n",
       "      <td>20.35</td>\n",
       "    </tr>\n",
       "    <tr>\n",
       "      <th>3</th>\n",
       "      <td>2018</td>\n",
       "      <td>23.14</td>\n",
       "    </tr>\n",
       "    <tr>\n",
       "      <th>4</th>\n",
       "      <td>2019</td>\n",
       "      <td>26.66</td>\n",
       "    </tr>\n",
       "    <tr>\n",
       "      <th>5</th>\n",
       "      <td>2020</td>\n",
       "      <td>30.73</td>\n",
       "    </tr>\n",
       "    <tr>\n",
       "      <th>6</th>\n",
       "      <td>2021</td>\n",
       "      <td>35.82</td>\n",
       "    </tr>\n",
       "    <tr>\n",
       "      <th>7</th>\n",
       "      <td>2022</td>\n",
       "      <td>42.62</td>\n",
       "    </tr>\n",
       "    <tr>\n",
       "      <th>8</th>\n",
       "      <td>2023</td>\n",
       "      <td>51.11</td>\n",
       "    </tr>\n",
       "    <tr>\n",
       "      <th>9</th>\n",
       "      <td>2024</td>\n",
       "      <td>62.12</td>\n",
       "    </tr>\n",
       "    <tr>\n",
       "      <th>10</th>\n",
       "      <td>2025</td>\n",
       "      <td>75.44</td>\n",
       "    </tr>\n",
       "  </tbody>\n",
       "</table>\n",
       "</div>"
      ],
      "text/plain": [
       "    Category  NumberofconnectedToTdevicesworldwide\n",
       "0       2015                                 15.41\n",
       "1       2016                                 17.68\n",
       "2       2017                                 20.35\n",
       "3       2018                                 23.14\n",
       "4       2019                                 26.66\n",
       "5       2020                                 30.73\n",
       "6       2021                                 35.82\n",
       "7       2022                                 42.62\n",
       "8       2023                                 51.11\n",
       "9       2024                                 62.12\n",
       "10      2025                                 75.44"
      ]
     },
     "execution_count": 48,
     "metadata": {},
     "output_type": "execute_result"
    }
   ],
   "source": [
    "data_iot"
   ]
  },
  {
   "cell_type": "code",
   "execution_count": 52,
   "id": "congressional-specific",
   "metadata": {},
   "outputs": [],
   "source": [
    "years = data_iot['Category']"
   ]
  },
  {
   "cell_type": "code",
   "execution_count": 53,
   "id": "tribal-arabic",
   "metadata": {},
   "outputs": [
    {
     "data": {
      "text/plain": [
       "0     2015\n",
       "1     2016\n",
       "2     2017\n",
       "3     2018\n",
       "4     2019\n",
       "5     2020\n",
       "6     2021\n",
       "7     2022\n",
       "8     2023\n",
       "9     2024\n",
       "10    2025\n",
       "Name: Category, dtype: int64"
      ]
     },
     "execution_count": 53,
     "metadata": {},
     "output_type": "execute_result"
    }
   ],
   "source": [
    "years"
   ]
  },
  {
   "cell_type": "code",
   "execution_count": 55,
   "id": "incorporate-estonia",
   "metadata": {},
   "outputs": [],
   "source": [
    "years = np.array(years)"
   ]
  },
  {
   "cell_type": "code",
   "execution_count": 56,
   "id": "norwegian-pleasure",
   "metadata": {},
   "outputs": [
    {
     "data": {
      "text/plain": [
       "array([2015, 2016, 2017, 2018, 2019, 2020, 2021, 2022, 2023, 2024, 2025])"
      ]
     },
     "execution_count": 56,
     "metadata": {},
     "output_type": "execute_result"
    }
   ],
   "source": [
    "years"
   ]
  },
  {
   "cell_type": "code",
   "execution_count": 57,
   "id": "consolidated-pepper",
   "metadata": {},
   "outputs": [],
   "source": [
    "years = years.reshape(len(years),1)"
   ]
  },
  {
   "cell_type": "code",
   "execution_count": 58,
   "id": "driving-reach",
   "metadata": {},
   "outputs": [
    {
     "data": {
      "text/plain": [
       "array([[2015],\n",
       "       [2016],\n",
       "       [2017],\n",
       "       [2018],\n",
       "       [2019],\n",
       "       [2020],\n",
       "       [2021],\n",
       "       [2022],\n",
       "       [2023],\n",
       "       [2024],\n",
       "       [2025]])"
      ]
     },
     "execution_count": 58,
     "metadata": {},
     "output_type": "execute_result"
    }
   ],
   "source": [
    "years"
   ]
  },
  {
   "cell_type": "code",
   "execution_count": 59,
   "id": "divided-boxing",
   "metadata": {},
   "outputs": [],
   "source": [
    "iot_data = data_iot['NumberofconnectedToTdevicesworldwide']"
   ]
  },
  {
   "cell_type": "code",
   "execution_count": 60,
   "id": "directed-poetry",
   "metadata": {},
   "outputs": [
    {
     "data": {
      "text/plain": [
       "0     15.41\n",
       "1     17.68\n",
       "2     20.35\n",
       "3     23.14\n",
       "4     26.66\n",
       "5     30.73\n",
       "6     35.82\n",
       "7     42.62\n",
       "8     51.11\n",
       "9     62.12\n",
       "10    75.44\n",
       "Name: NumberofconnectedToTdevicesworldwide, dtype: float64"
      ]
     },
     "execution_count": 60,
     "metadata": {},
     "output_type": "execute_result"
    }
   ],
   "source": [
    "iot_data"
   ]
  },
  {
   "cell_type": "code",
   "execution_count": 61,
   "id": "removable-coordination",
   "metadata": {},
   "outputs": [],
   "source": [
    "iot_data = np.array(iot_data)"
   ]
  },
  {
   "cell_type": "code",
   "execution_count": 62,
   "id": "specialized-arkansas",
   "metadata": {},
   "outputs": [
    {
     "data": {
      "text/plain": [
       "array([15.41, 17.68, 20.35, 23.14, 26.66, 30.73, 35.82, 42.62, 51.11,\n",
       "       62.12, 75.44])"
      ]
     },
     "execution_count": 62,
     "metadata": {},
     "output_type": "execute_result"
    }
   ],
   "source": [
    "iot_data"
   ]
  },
  {
   "cell_type": "code",
   "execution_count": 77,
   "id": "laughing-correction",
   "metadata": {},
   "outputs": [],
   "source": [
    "from sklearn.linear_model import LinearRegression "
   ]
  },
  {
   "cell_type": "code",
   "execution_count": 78,
   "id": "after-geography",
   "metadata": {},
   "outputs": [],
   "source": [
    "regressor = LinearRegression()"
   ]
  },
  {
   "cell_type": "code",
   "execution_count": 79,
   "id": "latter-visibility",
   "metadata": {},
   "outputs": [
    {
     "data": {
      "text/plain": [
       "LinearRegression()"
      ]
     },
     "execution_count": 79,
     "metadata": {},
     "output_type": "execute_result"
    }
   ],
   "source": [
    "regressor.fit(years, iot_data)"
   ]
  },
  {
   "cell_type": "code",
   "execution_count": 80,
   "id": "apparent-institute",
   "metadata": {},
   "outputs": [
    {
     "data": {
      "image/png": "[encoded data removed]",
      "text/plain": [
       "<Figure size 432x288 with 1 Axes>"
      ]
     },
     "metadata": {
      "needs_background": "light"
     },
     "output_type": "display_data"
    }
   ],
   "source": [
    "plt.scatter(years, iot_data, color='blue')\n",
    "plt.plot(years, regressor.predict(years), color='red')\n",
    "plt.show()"
   ]
  },
  {
   "cell_type": "code",
   "execution_count": 92,
   "id": "medieval-ultimate",
   "metadata": {
    "scrolled": true
   },
   "outputs": [
    {
     "data": {
      "text/plain": [
       "array([92.67181818])"
      ]
     },
     "execution_count": 92,
     "metadata": {},
     "output_type": "execute_result"
    }
   ],
   "source": [
    "regressor.predict([[2030]])"
   ]
  },
  {
   "cell_type": "code",
   "execution_count": 83,
   "id": "honest-wrong",
   "metadata": {},
   "outputs": [],
   "source": [
    "from sklearn.ensemble import RandomForestRegressor"
   ]
  },
  {
   "cell_type": "code",
   "execution_count": 98,
   "id": "shaped-drill",
   "metadata": {},
   "outputs": [],
   "source": [
    "random_forest_regressor = RandomForestRegressor(n_estimators=2000, random_state=0) # make model of pred"
   ]
  },
  {
   "cell_type": "code",
   "execution_count": 99,
   "id": "surrounded-debate",
   "metadata": {},
   "outputs": [
    {
     "data": {
      "text/plain": [
       "RandomForestRegressor(n_estimators=20000, random_state=0)"
      ]
     },
     "execution_count": 99,
     "metadata": {},
     "output_type": "execute_result"
    }
   ],
   "source": [
    "random_forest_regressor.fit(years, iot_data)"
   ]
  },
  {
   "cell_type": "code",
   "execution_count": 100,
   "id": "disciplinary-illness",
   "metadata": {},
   "outputs": [
    {
     "data": {
      "image/png": "[encoded data removed]",
      "text/plain": [
       "<Figure size 432x288 with 1 Axes>"
      ]
     },
     "metadata": {
      "needs_background": "light"
     },
     "output_type": "display_data"
    }
   ],
   "source": [
    "plt.scatter(years, iot_data, color='blue')\n",
    "plt.plot(years, random_forest_regressor.predict(years), color='red')\n",
    "plt.show()"
   ]
  },
  {
   "cell_type": "code",
   "execution_count": 102,
   "id": "abandoned-strand",
   "metadata": {},
   "outputs": [
    {
     "data": {
      "text/plain": [
       "array([69.2416005])"
      ]
     },
     "execution_count": 102,
     "metadata": {},
     "output_type": "execute_result"
    }
   ],
   "source": [
    "random_forest_regressor.predict([[2030]])"
   ]
  },
  {
   "cell_type": "code",
   "execution_count": null,
   "id": "dried-liquid",
   "metadata": {},
   "outputs": [],
   "source": []
  }
 ],
 "metadata": {
  "kernelspec": {
   "display_name": "Python 3",
   "language": "python",
   "name": "python3"
  },
  "language_info": {
   "codemirror_mode": {
    "name": "ipython",
    "version": 3
   },
   "file_extension": ".py",
   "mimetype": "text/x-python",
   "name": "python",
   "nbconvert_exporter": "python",
   "pygments_lexer": "ipython3",
   "version": "3.6.9"
  }
 },
 "nbformat": 4,
 "nbformat_minor": 5
}
