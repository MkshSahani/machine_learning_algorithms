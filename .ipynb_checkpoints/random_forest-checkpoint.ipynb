{
 "cells": [
  {
   "cell_type": "code",
   "execution_count": 1,
   "id": "present-employee",
   "metadata": {},
   "outputs": [],
   "source": [
    "# random forest algorithm "
   ]
  },
  {
   "cell_type": "code",
   "execution_count": 2,
   "id": "adequate-oracle",
   "metadata": {},
   "outputs": [],
   "source": [
    "import numpy as np \n",
    "import pandas as pd"
   ]
  },
  {
   "cell_type": "code",
   "execution_count": 3,
   "id": "honey-criterion",
   "metadata": {},
   "outputs": [],
   "source": [
    "# load dataset \n",
    "data_set = pd.read_csv('positionSalary.csv')"
   ]
  },
  {
   "cell_type": "code",
   "execution_count": 6,
   "id": "accurate-physiology",
   "metadata": {},
   "outputs": [],
   "source": [
    "x_dependent_features = data_set.iloc[:,1:2].values"
   ]
  },
  {
   "cell_type": "code",
   "execution_count": 7,
   "id": "analyzed-arthur",
   "metadata": {},
   "outputs": [
    {
     "data": {
      "text/plain": [
       "array([[ 1],\n",
       "       [ 2],\n",
       "       [ 3],\n",
       "       [ 4],\n",
       "       [ 5],\n",
       "       [ 6],\n",
       "       [ 7],\n",
       "       [ 8],\n",
       "       [ 9],\n",
       "       [10]])"
      ]
     },
     "execution_count": 7,
     "metadata": {},
     "output_type": "execute_result"
    }
   ],
   "source": [
    "x_dependent_features"
   ]
  },
  {
   "cell_type": "code",
   "execution_count": 8,
   "id": "miniature-advisory",
   "metadata": {},
   "outputs": [],
   "source": [
    "y_target_features = data_set.iloc[:, 2].values"
   ]
  },
  {
   "cell_type": "code",
   "execution_count": 15,
   "id": "western-cisco",
   "metadata": {},
   "outputs": [
    {
     "name": "stdout",
     "output_type": "stream",
     "text": [
      "            Position  Level   Salary\n",
      "0   Business Analyst      1    45000\n",
      "1  Junior Consultant      2    50000\n",
      "2  Senior Consultant      3    60000\n",
      "3            Manager      4    80000\n",
      "4    Country Manager      5   110000\n",
      "5     Region Manager      6   150000\n",
      "6            Partner      7   200000\n",
      "7     Senior Partner      8   300000\n",
      "8            C-level      9   500000\n",
      "9                CEO     10  1000000\n"
     ]
    }
   ],
   "source": [
    "y_target_features\n",
    "print(data_set)"
   ]
  },
  {
   "cell_type": "code",
   "execution_count": 10,
   "id": "young-gravity",
   "metadata": {},
   "outputs": [],
   "source": [
    "from sklearn.model_selection import train_test_split"
   ]
  },
  {
   "cell_type": "code",
   "execution_count": 13,
   "id": "mighty-lunch",
   "metadata": {},
   "outputs": [],
   "source": [
    "x_train, x_test, y_train, y_test = train_test_split(x_dependent_features, y_target_features, test_size = 0.2, \\\n",
    "                                                   random_state=0)"
   ]
  },
  {
   "cell_type": "code",
   "execution_count": 16,
   "id": "rotary-desperate",
   "metadata": {},
   "outputs": [],
   "source": [
    "from sklearn.ensemble import RandomForestRegressor"
   ]
  },
  {
   "cell_type": "code",
   "execution_count": 18,
   "id": "psychological-intelligence",
   "metadata": {},
   "outputs": [],
   "source": [
    "random_forest_regressor = RandomForestRegressor(n_estimators=300, random_state=0) # make model of pred"
   ]
  },
  {
   "cell_type": "code",
   "execution_count": 20,
   "id": "material-criminal",
   "metadata": {},
   "outputs": [
    {
     "data": {
      "text/plain": [
       "RandomForestRegressor(n_estimators=300, random_state=0)"
      ]
     },
     "execution_count": 20,
     "metadata": {},
     "output_type": "execute_result"
    }
   ],
   "source": [
    "random_forest_regressor.fit(x_dependent_features, y_target_features)"
   ]
  },
  {
   "cell_type": "code",
   "execution_count": 21,
   "id": "concrete-official",
   "metadata": {},
   "outputs": [],
   "source": [
    "x_grid = np.arange(min(x_dependent_features), max(y_target_features), 0.01)"
   ]
  },
  {
   "cell_type": "code",
   "execution_count": 22,
   "id": "subjective-priest",
   "metadata": {},
   "outputs": [],
   "source": [
    "x_grid = x_grid.reshape((len(x_grid), 1))"
   ]
  },
  {
   "cell_type": "code",
   "execution_count": 23,
   "id": "connected-arnold",
   "metadata": {},
   "outputs": [
    {
     "data": {
      "text/plain": [
       "array([[1.0000000e+00],\n",
       "       [1.0100000e+00],\n",
       "       [1.0200000e+00],\n",
       "       ...,\n",
       "       [9.9999997e+05],\n",
       "       [9.9999998e+05],\n",
       "       [9.9999999e+05]])"
      ]
     },
     "execution_count": 23,
     "metadata": {},
     "output_type": "execute_result"
    }
   ],
   "source": [
    "x_grid"
   ]
  },
  {
   "cell_type": "code",
   "execution_count": null,
   "id": "seeing-checkout",
   "metadata": {},
   "outputs": [],
   "source": [
    "import matplotlib.pyplot as plt"
   ]
  },
  {
   "cell_type": "code",
   "execution_count": null,
   "id": "behavioral-pottery",
   "metadata": {},
   "outputs": [],
   "source": [
    "plt.scatter(x_dependent_features, y_target_features, color='red') # plot training data. \n"
   ]
  },
  {
   "cell_type": "code",
   "execution_count": null,
   "id": "blessed-reviewer",
   "metadata": {},
   "outputs": [],
   "source": []
  }
 ],
 "metadata": {
  "kernelspec": {
   "display_name": "Python 3",
   "language": "python",
   "name": "python3"
  },
  "language_info": {
   "codemirror_mode": {
    "name": "ipython",
    "version": 3
   },
   "file_extension": ".py",
   "mimetype": "text/x-python",
   "name": "python",
   "nbconvert_exporter": "python",
   "pygments_lexer": "ipython3",
   "version": "3.6.9"
  }
 },
 "nbformat": 4,
 "nbformat_minor": 5
}
