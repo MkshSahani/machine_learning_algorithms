{
 "cells": [
  {
   "cell_type": "code",
   "execution_count": 1,
   "id": "scientific-silicon",
   "metadata": {},
   "outputs": [],
   "source": [
    "import pandas as pd"
   ]
  },
  {
   "cell_type": "code",
   "execution_count": 2,
   "id": "celtic-thesaurus",
   "metadata": {},
   "outputs": [],
   "source": [
    "import matplotlib.pyplot as plt"
   ]
  },
  {
   "cell_type": "code",
   "execution_count": 3,
   "id": "helpful-exhaust",
   "metadata": {},
   "outputs": [],
   "source": [
    "dataset = pd.read_csv('salary.csv')"
   ]
  },
  {
   "cell_type": "code",
   "execution_count": 4,
   "id": "chicken-powell",
   "metadata": {},
   "outputs": [
    {
     "name": "stdout",
     "output_type": "stream",
     "text": [
      "     1.1  39343.00\n",
      "0    1.3   46205.0\n",
      "1    1.5   37731.0\n",
      "2    2.0   43525.0\n",
      "3    2.2   39891.0\n",
      "4    2.9   56642.0\n",
      "5    3.0   60150.0\n",
      "6    3.2   54445.0\n",
      "7    3.2   64445.0\n",
      "8    3.7   57189.0\n",
      "9    3.9   63218.0\n",
      "10   4.0   55794.0\n",
      "11   4.0   56957.0\n",
      "12   4.1   57081.0\n",
      "13   4.5   61111.0\n",
      "14   4.9   67938.0\n",
      "15   5.1   66029.0\n",
      "16   5.3   83088.0\n",
      "17   5.9   81363.0\n",
      "18   6.0   93940.0\n",
      "19   6.8   91738.0\n",
      "20   7.1   98273.0\n",
      "21   7.9  101302.0\n",
      "22   8.2  113812.0\n",
      "23   8.7  109431.0\n",
      "24   9.0  105582.0\n",
      "25   9.5  116969.0\n",
      "26   9.6  112635.0\n",
      "27  10.3  122391.0\n",
      "28  10.5  121872.0\n"
     ]
    }
   ],
   "source": [
    "print(dataset)"
   ]
  },
  {
   "cell_type": "code",
   "execution_count": 5,
   "id": "collective-mississippi",
   "metadata": {},
   "outputs": [],
   "source": [
    "x_values = dataset.iloc[:, :-1].values"
   ]
  },
  {
   "cell_type": "code",
   "execution_count": 6,
   "id": "superb-upper",
   "metadata": {},
   "outputs": [
    {
     "name": "stdout",
     "output_type": "stream",
     "text": [
      "[[ 1.3]\n",
      " [ 1.5]\n",
      " [ 2. ]\n",
      " [ 2.2]\n",
      " [ 2.9]\n",
      " [ 3. ]\n",
      " [ 3.2]\n",
      " [ 3.2]\n",
      " [ 3.7]\n",
      " [ 3.9]\n",
      " [ 4. ]\n",
      " [ 4. ]\n",
      " [ 4.1]\n",
      " [ 4.5]\n",
      " [ 4.9]\n",
      " [ 5.1]\n",
      " [ 5.3]\n",
      " [ 5.9]\n",
      " [ 6. ]\n",
      " [ 6.8]\n",
      " [ 7.1]\n",
      " [ 7.9]\n",
      " [ 8.2]\n",
      " [ 8.7]\n",
      " [ 9. ]\n",
      " [ 9.5]\n",
      " [ 9.6]\n",
      " [10.3]\n",
      " [10.5]]\n"
     ]
    }
   ],
   "source": [
    "print(x_values) # indepent parameter "
   ]
  },
  {
   "cell_type": "code",
   "execution_count": 11,
   "id": "latter-mauritius",
   "metadata": {},
   "outputs": [],
   "source": [
    "y_values = dataset.iloc[:, 1].values"
   ]
  },
  {
   "cell_type": "code",
   "execution_count": 12,
   "id": "velvet-empire",
   "metadata": {},
   "outputs": [
    {
     "data": {
      "text/plain": [
       "array([ 46205.,  37731.,  43525.,  39891.,  56642.,  60150.,  54445.,\n",
       "        64445.,  57189.,  63218.,  55794.,  56957.,  57081.,  61111.,\n",
       "        67938.,  66029.,  83088.,  81363.,  93940.,  91738.,  98273.,\n",
       "       101302., 113812., 109431., 105582., 116969., 112635., 122391.,\n",
       "       121872.])"
      ]
     },
     "execution_count": 12,
     "metadata": {},
     "output_type": "execute_result"
    }
   ],
   "source": [
    "y_values"
   ]
  },
  {
   "cell_type": "code",
   "execution_count": 13,
   "id": "surprised-suffering",
   "metadata": {},
   "outputs": [],
   "source": [
    "# imort train_test_split \n",
    "from sklearn.model_selection import train_test_split "
   ]
  },
  {
   "cell_type": "code",
   "execution_count": 16,
   "id": "greenhouse-boards",
   "metadata": {},
   "outputs": [],
   "source": [
    "x_train, x_test, y_train, y_test = train_test_split(x_values, y_values, test_size = 1/3, random_state=0)"
   ]
  },
  {
   "cell_type": "code",
   "execution_count": 17,
   "id": "reported-canon",
   "metadata": {},
   "outputs": [
    {
     "data": {
      "text/plain": [
       "array([[ 3.7],\n",
       "       [ 5.3],\n",
       "       [ 8.2],\n",
       "       [ 5.9],\n",
       "       [ 1.5],\n",
       "       [ 4. ],\n",
       "       [10.5],\n",
       "       [ 3.2],\n",
       "       [ 2.9],\n",
       "       [ 6. ],\n",
       "       [ 6.8],\n",
       "       [ 3.9],\n",
       "       [ 3.2],\n",
       "       [ 9. ],\n",
       "       [ 2.2],\n",
       "       [ 1.3],\n",
       "       [ 7.9],\n",
       "       [ 5.1],\n",
       "       [ 4.1]])"
      ]
     },
     "execution_count": 17,
     "metadata": {},
     "output_type": "execute_result"
    }
   ],
   "source": [
    "x_train"
   ]
  },
  {
   "cell_type": "code",
   "execution_count": 18,
   "id": "permanent-george",
   "metadata": {},
   "outputs": [
    {
     "data": {
      "text/plain": [
       "array([ 57189.,  83088., 113812.,  81363.,  37731.,  55794., 121872.,\n",
       "        54445.,  56642.,  93940.,  91738.,  63218.,  64445., 105582.,\n",
       "        39891.,  46205., 101302.,  66029.,  57081.])"
      ]
     },
     "execution_count": 18,
     "metadata": {},
     "output_type": "execute_result"
    }
   ],
   "source": [
    "y_train"
   ]
  },
  {
   "cell_type": "code",
   "execution_count": 19,
   "id": "internal-harmony",
   "metadata": {},
   "outputs": [],
   "source": [
    "# import linearregression model \n",
    "from sklearn.linear_model import LinearRegression "
   ]
  },
  {
   "cell_type": "code",
   "execution_count": 20,
   "id": "contemporary-equity",
   "metadata": {},
   "outputs": [],
   "source": [
    "linear_regression_model = LinearRegression()"
   ]
  },
  {
   "cell_type": "code",
   "execution_count": 21,
   "id": "assisted-cattle",
   "metadata": {},
   "outputs": [
    {
     "data": {
      "text/plain": [
       "LinearRegression()"
      ]
     },
     "execution_count": 21,
     "metadata": {},
     "output_type": "execute_result"
    }
   ],
   "source": [
    "linear_regression_model.fit(x_train, y_train)"
   ]
  },
  {
   "cell_type": "code",
   "execution_count": 24,
   "id": "trained-oxide",
   "metadata": {},
   "outputs": [
    {
     "data": {
      "image/png": "[encoded data removed]",
      "text/plain": [
       "<Figure size 432x288 with 1 Axes>"
      ]
     },
     "metadata": {
      "needs_background": "light"
     },
     "output_type": "display_data"
    }
   ],
   "source": [
    "# plot data \n",
    "plt.scatter(x_train, y_train, color='red') # scatter plot training data. \n",
    "plt.plot(x_train, linear_regression_model.predict(x_train), color='blue')\n",
    "plt.show() # show the plot"
   ]
  },
  {
   "cell_type": "code",
   "execution_count": 26,
   "id": "initial-chester",
   "metadata": {},
   "outputs": [
    {
     "data": {
      "image/png": "[encoded data removed]",
      "text/plain": [
       "<Figure size 432x288 with 1 Axes>"
      ]
     },
     "metadata": {
      "needs_background": "light"
     },
     "output_type": "display_data"
    }
   ],
   "source": [
    "# visualize testing data. \n",
    "plt.scatter(x_test, y_test, color='red') # sccatter plot testing data. \n",
    "plt.plot(x_test, linear_regression_model.predict(x_test), color='blue') # plot prediction on testing data. \n",
    "plt.show() # show plot."
   ]
  },
  {
   "cell_type": "code",
   "execution_count": null,
   "id": "smaller-convenience",
   "metadata": {},
   "outputs": [],
   "source": []
  }
 ],
 "metadata": {
  "kernelspec": {
   "display_name": "Python 3",
   "language": "python",
   "name": "python3"
  },
  "language_info": {
   "codemirror_mode": {
    "name": "ipython",
    "version": 3
   },
   "file_extension": ".py",
   "mimetype": "text/x-python",
   "name": "python",
   "nbconvert_exporter": "python",
   "pygments_lexer": "ipython3",
   "version": "3.6.9"
  }
 },
 "nbformat": 4,
 "nbformat_minor": 5
}
